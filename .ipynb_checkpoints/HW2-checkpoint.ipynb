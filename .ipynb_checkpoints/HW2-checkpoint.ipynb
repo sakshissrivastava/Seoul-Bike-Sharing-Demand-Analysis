{
 "cells": [
  {
   "cell_type": "markdown",
   "metadata": {},
   "source": [
    "# DA Homework 2\n",
    "\n",
    "\n",
    "## Instructions\n",
    "\n",
    "1. Homework assignments require individual attention and effort to be of any benefit. You may ask for help from the instructor and TA. However, you should individually complete the assignments.\n",
    "\n",
    "\n",
    "2. For your homework submission, please make sure your notebook contains both your Python code and ALL the outputs. Submit the HTML file on Canvas.\n",
    "\n",
    "\n",
    "3. At the end of the notebook, you also need to write **an executive summary** that describes your main findings and conclusions to me (so you can assume analytics knowledge). The summary should not exceed 1 page of text. "
   ]
  },
  {
   "cell_type": "markdown",
   "metadata": {},
   "source": [
    "## 1. The dataset\n",
    "\n",
    "The Internet has revolutionized the real estate industry. Realtors now list houses and their prices on the web, and estimates of house and condominium prices have become widely available, even for units not on the market.\n",
    "\n",
    "Zillow (www.zillow.com) is the most popular online real estate information site in the United States. It gets much of the data for its “Zestimates” of home values directly from publicly available city housing data, used to estimate property values for tax assessment. A simple approach would be a naive, model-less method—just use the assessed values as determined by the city. Those values, however, do not necessarily include all properties, and they might not include changes warranted by remodeling, additions, etc. Moreover, the assessment methods used by cities may not be transparent or always reflect true market values. However, the city property data can be used as a starting point to build a model, to which additional data (such as that collected by large realtors) can be added later.\n",
    "\n",
    "In the homework assignments, we will look at how Boston property assessment data, available from the city of Boston, might be used to predict home values. The data in **`WestRoxbury.csv`** includes information on single family owner-occupied homes in West Roxbury, a neighborhood in southwest Boston, MA, in 2014. The data includes values for various predictor variables, and for an outcome—assessed home value (“total value”). \n",
    "\n",
    "The dataset includes 5802 homes and 14 variables. A description of each variable is provided below.\n",
    "\n",
    "| Variable | Description |\n",
    "| --- | --- |\n",
    "| TOTAL VALUE | Total assessed value for property, in thousands of USD |\n",
    "| TAX Tax bill | amount based on total assessed value multiplied by the tax rate, in USD |\n",
    "| LOT SQ FT | Total lot size of parcel in square feet |\n",
    "| YR BUILT | Year the property was built |\n",
    "| GROSS AREA | Gross floor area |\n",
    "| LIVING AREA | Total living area for residential properties (ft2) |\n",
    "| FLOORS | Number of floors |\n",
    "| ROOMS | Total number of rooms |\n",
    "| BEDROOMS | Total number of bedrooms |\n",
    "| FULL BATH | Total number of full baths |\n",
    "| HALF BATH | Total number of half baths |\n",
    "| KITCHEN | Total number of kitchens |\n",
    "| FIREPLACE | Total number of fireplaces |\n",
    "| REMODEL | When the house was remodeled (Recent/Old/None) |"
   ]
  },
  {
   "cell_type": "markdown",
   "metadata": {},
   "source": [
    "## 2. Load data"
   ]
  },
  {
   "cell_type": "code",
   "execution_count": null,
   "metadata": {},
   "outputs": [],
   "source": [
    "# Import the Python libraries\n",
    "import pandas as pd\n",
    "import statsmodels.api as sm\n",
    "import seaborn as sns\n",
    "import matplotlib.pyplot as plt\n",
    "from scipy import stats\n",
    "\n",
    "import warnings\n",
    "# Suppress only specific types of warnings\n",
    "warnings.filterwarnings('ignore', category=FutureWarning)  # Suppress future deprecation warnings\n",
    "warnings.filterwarnings('ignore', category=DeprecationWarning)  # Suppress deprecation warnings\n",
    "\n",
    "sns.set()\n",
    "sns.set(rc={'figure.figsize':(12, 8)})"
   ]
  },
  {
   "cell_type": "markdown",
   "metadata": {},
   "source": [
    "Load the West Roxbury data set. "
   ]
  },
  {
   "cell_type": "code",
   "execution_count": null,
   "metadata": {},
   "outputs": [],
   "source": [
    "\n"
   ]
  },
  {
   "cell_type": "markdown",
   "metadata": {},
   "source": [
    "## 3. Data Preparation"
   ]
  },
  {
   "cell_type": "markdown",
   "metadata": {},
   "source": [
    "### 3.1 Find the shape of the data\n",
    "\n",
    "Determine the shape of the data frame. It should have 5802 rows and 14 columns"
   ]
  },
  {
   "cell_type": "code",
   "execution_count": null,
   "metadata": {},
   "outputs": [],
   "source": [
    "\n"
   ]
  },
  {
   "cell_type": "markdown",
   "metadata": {},
   "source": [
    "### 3.2 Remove old houses"
   ]
  },
  {
   "cell_type": "markdown",
   "metadata": {},
   "source": [
    "Now, filter data to exclude all houses that were built before year 1900. "
   ]
  },
  {
   "cell_type": "code",
   "execution_count": null,
   "metadata": {},
   "outputs": [],
   "source": [
    "# filter houses that were built before 1900\n",
    "\n"
   ]
  },
  {
   "cell_type": "code",
   "execution_count": null,
   "metadata": {},
   "outputs": [],
   "source": [
    "# Verify the shape of the data frame\n",
    "\n"
   ]
  },
  {
   "cell_type": "markdown",
   "metadata": {},
   "source": [
    "### 3.3 Calculate the age of the house (i.e., 'AGE') from the 'YR_BUILT'"
   ]
  },
  {
   "cell_type": "markdown",
   "metadata": {},
   "source": [
    "Calculate the `AGE` from the `YR_BUILT`, e.g., `AGE` = 2020 - `YR_BUILT`"
   ]
  },
  {
   "cell_type": "code",
   "execution_count": null,
   "metadata": {},
   "outputs": [],
   "source": [
    "# create the AGE column \n",
    "\n"
   ]
  },
  {
   "cell_type": "markdown",
   "metadata": {},
   "source": [
    "### 3.4 Transform `REMODEL` "
   ]
  },
  {
   "cell_type": "markdown",
   "metadata": {},
   "source": [
    "Convert the categorical varialbe `REMODEL` to a binary indicator `REMODEL_RECENT` that indicates whether or not a house was recently remodeled"
   ]
  },
  {
   "cell_type": "code",
   "execution_count": null,
   "metadata": {},
   "outputs": [],
   "source": [
    "# convert 'REMODEL' to binary indicator 'REMODEL_RECENT'\n",
    "\n"
   ]
  },
  {
   "cell_type": "markdown",
   "metadata": {},
   "source": [
    "### 3.5 Summarize all variables"
   ]
  },
  {
   "cell_type": "markdown",
   "metadata": {},
   "source": [
    "Obtain summary statistics of all numerical variables in the data frame"
   ]
  },
  {
   "cell_type": "code",
   "execution_count": null,
   "metadata": {},
   "outputs": [],
   "source": [
    "# get summary statistics of all numeric columns\n",
    "\n"
   ]
  },
  {
   "cell_type": "markdown",
   "metadata": {},
   "source": [
    "## 4. Data Visualizations"
   ]
  },
  {
   "cell_type": "markdown",
   "metadata": {},
   "source": [
    "### 4.1 Explore `TOTAL_VALUE` and `GROSS_AREA`"
   ]
  },
  {
   "cell_type": "markdown",
   "metadata": {},
   "source": [
    "`TOTAL_VALUE` and `GROSS_AREA`: create a scatterplot with a linear fitted line for "
   ]
  },
  {
   "cell_type": "code",
   "execution_count": null,
   "metadata": {},
   "outputs": [],
   "source": [
    "\n"
   ]
  },
  {
   "cell_type": "markdown",
   "metadata": {},
   "source": [
    "`TOTAL_VALUE` and `GROSS_AREA`: calcualte Pearson correlation coefficient"
   ]
  },
  {
   "cell_type": "code",
   "execution_count": null,
   "metadata": {
    "scrolled": true
   },
   "outputs": [],
   "source": [
    "\n"
   ]
  },
  {
   "cell_type": "markdown",
   "metadata": {},
   "source": [
    "### 4.2 Explore `TOTAL_VALUE` and `AGE`"
   ]
  },
  {
   "cell_type": "markdown",
   "metadata": {},
   "source": [
    "`TOTAL_VALUE` and `AGE`: create a scatterplot with a linear fitted line "
   ]
  },
  {
   "cell_type": "code",
   "execution_count": null,
   "metadata": {},
   "outputs": [],
   "source": [
    "\n"
   ]
  },
  {
   "cell_type": "markdown",
   "metadata": {},
   "source": [
    "`TOTAL_VALUE` and `AGE`: calcualte Pearson correlation coefficient"
   ]
  },
  {
   "cell_type": "code",
   "execution_count": null,
   "metadata": {
    "scrolled": true
   },
   "outputs": [],
   "source": [
    "\n"
   ]
  },
  {
   "cell_type": "markdown",
   "metadata": {},
   "source": [
    "## 5. Simple Linear Regression"
   ]
  },
  {
   "cell_type": "markdown",
   "metadata": {},
   "source": [
    "### 5.1. Regress `TOTAL_VALUE` on `GROSS_AREA`"
   ]
  },
  {
   "cell_type": "code",
   "execution_count": null,
   "metadata": {},
   "outputs": [],
   "source": [
    "\n",
    "\n",
    "\n"
   ]
  },
  {
   "cell_type": "markdown",
   "metadata": {},
   "source": [
    "### 5.2. Vidualize the regression line"
   ]
  },
  {
   "cell_type": "code",
   "execution_count": null,
   "metadata": {},
   "outputs": [],
   "source": [
    "\n",
    "\n",
    "\n"
   ]
  },
  {
   "cell_type": "markdown",
   "metadata": {},
   "source": [
    "### 5.3. Check the distribution of residuals"
   ]
  },
  {
   "cell_type": "markdown",
   "metadata": {},
   "source": [
    "Histogram of normalized residuals"
   ]
  },
  {
   "cell_type": "code",
   "execution_count": null,
   "metadata": {},
   "outputs": [],
   "source": [
    "\n"
   ]
  },
  {
   "cell_type": "markdown",
   "metadata": {},
   "source": [
    "### 5.4 Interpretation of Results\n",
    "\n",
    "Interpret your regression results, make sure to discuss:\n",
    "1. Overall fit of the model\n",
    "2. Regression equation\n",
    "3. Significance of individual variables and regression coefficients\n",
    "4. Check if there is any violations of model assumptions\n",
    "5. Check if there is any influential observations"
   ]
  },
  {
   "cell_type": "markdown",
   "metadata": {},
   "source": [
    "<font color='blue'> Write your answer here (double click to open the cell): </font>\n",
    "\n",
    "\n",
    "\n",
    " "
   ]
  },
  {
   "cell_type": "markdown",
   "metadata": {},
   "source": [
    "## 6. Multiple Linear Regression"
   ]
  },
  {
   "cell_type": "markdown",
   "metadata": {},
   "source": [
    "### 6.1. Regress `TOTAL_VALUE` on `GROSS_AREA`, `AGE`, and `REMODEL_RECENT`"
   ]
  },
  {
   "cell_type": "code",
   "execution_count": null,
   "metadata": {},
   "outputs": [],
   "source": [
    "\n",
    "\n"
   ]
  },
  {
   "cell_type": "markdown",
   "metadata": {},
   "source": [
    "### 6.2 Compute VIF values"
   ]
  },
  {
   "cell_type": "code",
   "execution_count": null,
   "metadata": {},
   "outputs": [],
   "source": [
    "\n",
    "\n"
   ]
  },
  {
   "cell_type": "markdown",
   "metadata": {},
   "source": [
    "### 6.3 Visualize the partial regression plots"
   ]
  },
  {
   "cell_type": "markdown",
   "metadata": {},
   "source": [
    "Plot partial regression plots to visualize the significance of indivdiual predictors separately"
   ]
  },
  {
   "cell_type": "code",
   "execution_count": null,
   "metadata": {},
   "outputs": [],
   "source": [
    "\n"
   ]
  },
  {
   "cell_type": "markdown",
   "metadata": {},
   "source": [
    "### 6.4 Interpretation of Results\n",
    "\n",
    "Interpret your regression results, make sure to discuss:\n",
    "1. Overall fit of the model\n",
    "2. Regression equation\n",
    "3. Significance of individual variables and regression coefficients\n",
    "4. Check if there is any violations of model assumptions\n",
    "5. Check if there is any influential observations\n",
    "6. Check if there is any multicollinearity issue"
   ]
  },
  {
   "cell_type": "markdown",
   "metadata": {},
   "source": [
    "<font color='blue'> Write your Answer (double click to open the cell): </font>\n",
    "\n",
    "\n",
    "\n",
    " "
   ]
  },
  {
   "cell_type": "markdown",
   "metadata": {},
   "source": [
    "## 7. Executive Summary\n",
    "\n",
    "Report your summary of observations/findings in the executive summary. The summary should not exceed 1 page long. "
   ]
  },
  {
   "cell_type": "markdown",
   "metadata": {},
   "source": [
    "<font color='blue'> Summary of findings (double click to open the cell): </font>\n",
    "\n",
    "\n",
    "\n",
    "\n",
    "\n"
   ]
  },
  {
   "cell_type": "code",
   "execution_count": null,
   "metadata": {},
   "outputs": [],
   "source": []
  }
 ],
 "metadata": {
  "kernelspec": {
   "display_name": "Python 3 (ipykernel)",
   "language": "python",
   "name": "python3"
  },
  "language_info": {
   "codemirror_mode": {
    "name": "ipython",
    "version": 3
   },
   "file_extension": ".py",
   "mimetype": "text/x-python",
   "name": "python",
   "nbconvert_exporter": "python",
   "pygments_lexer": "ipython3",
   "version": "3.11.8"
  }
 },
 "nbformat": 4,
 "nbformat_minor": 4
}
